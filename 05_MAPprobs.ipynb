{
 "cells": [
  {
   "cell_type": "code",
   "execution_count": null,
   "metadata": {},
   "outputs": [],
   "source": []
  },
  {
   "cell_type": "code",
   "execution_count": null,
   "metadata": {},
   "outputs": [],
   "source": []
  },
  {
   "cell_type": "code",
   "execution_count": null,
   "metadata": {},
   "outputs": [],
   "source": []
  },
  {
   "cell_type": "code",
   "execution_count": null,
   "metadata": {},
   "outputs": [],
   "source": []
  },
  {
   "cell_type": "code",
   "execution_count": null,
   "metadata": {},
   "outputs": [],
   "source": [
    "for year in range(START_YEAR, END_YEAR + 1):\n",
    "    year_probs = ee.Image()\n",
    "    for threshold_idx in range(25):\n",
    "        threshold = (threshold_idx + 1) * 5\n",
    "        current_prob_list = []\n",
    "        future_prob_list = []\n",
    "        successes = ee.Image.constant(0)\n",
    "        failures = ee.Image.constant(0)\n",
    "        year_threshold_images_list = ee.List([])\n",
    "\n",
    "        alphabeta = priors[threshold_idx]\n",
    "        alpha = parameter_prime(alphabeta.select('alpha'), year, threshold, False)\n",
    "        beta = parameter_prime(alphabeta.select('beta'), year, threshold, True)\n",
    "\n",
    "        for model in MODELS:\n",
    "            tasmax_model = tasmax_rcp85.filterMetadata('model', 'equals', model)\n",
    "            ehe_year_model = ehe(tasmax_model.filterDate(str(year) + '-01-01', str(year) + '-12-31'), model)\n",
    "            successes = successes.add(ehe_year_model.gte(threshold).multiply(ehe_year_model.lt(threshold + 5)))\n",
    "            failures = failures.add(ehe_year_model.lt(threshold).add(ehe_year_model.gte(threshold + 5)).min(1))\n",
    "            year_threshold_images = (successes.add(alpha).subtract(1)).divide(successes.add(failures).add(beta).add(alpha).subtract(2))\n",
    "            year_threshold_images_list = year_threshold_images_list.add(year_threshold_images)\n",
    "        year_threshold_meanprob = ee.ImageCollection(year_threshold_images_list).mean().rename('threshold_' + str(threshold))\n",
    "        year_probs = year_probs.addBands(year_threshold_meanprob)\n",
    "    year_probs = year_probs.set('year', year)\n",
    "    year_probs = year_probs.select(\n",
    "        year_probs.bandNames().filter(\n",
    "            ee.Filter.stringStartsWith('item', 'threshold_')\n",
    "        )\n",
    "    )\n",
    "  \n",
    "    task = ee.batch.Export.image.toAsset(**{\n",
    "        'image': year_probs,\n",
    "        'description': 'noncumul_ehe_MAPprob_prime01_' + str(year),\n",
    "        'assetId': 'users/tedwongwri/MAP_probs/noncumul_ehe_MAPprob_prime01_' + str(year),\n",
    "        'region': wholeGlobe,\n",
    "        'crs': 'EPSG:4326',\n",
    "        'dimensions': '1440x720'\n",
    "    })\n",
    "    task.start()"
   ]
  }
 ],
 "metadata": {
  "kernelspec": {
   "display_name": "Python 3",
   "language": "python",
   "name": "python3"
  },
  "language_info": {
   "codemirror_mode": {
    "name": "ipython",
    "version": 3
   },
   "file_extension": ".py",
   "mimetype": "text/x-python",
   "name": "python",
   "nbconvert_exporter": "python",
   "pygments_lexer": "ipython3",
   "version": "3.8.5"
  }
 },
 "nbformat": 4,
 "nbformat_minor": 4
}
