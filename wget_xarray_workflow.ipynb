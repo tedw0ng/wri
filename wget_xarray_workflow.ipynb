{
  "nbformat": 4,
  "nbformat_minor": 0,
  "metadata": {
    "colab": {
      "name": "wget_xarray_workflow.ipynb",
      "provenance": [],
      "collapsed_sections": []
    },
    "kernelspec": {
      "display_name": "Python 3",
      "name": "python3"
    },
    "language_info": {
      "name": "python"
    }
  },
  "cells": [
    {
      "cell_type": "code",
      "metadata": {
        "id": "6Mhi6MYYAIRe"
      },
      "source": [
        "import numpy as np\n",
        "import xarray as xr\n",
        "#import multiprocessing\n",
        "from xarray.backends import NetCDF4DataStore\n",
        "#from google.colab import drive\n",
        "#drive.mount('/content/gdrive')"
      ],
      "execution_count": 1,
      "outputs": []
    },
    {
      "cell_type": "code",
      "metadata": {
        "colab": {
          "base_uri": "https://localhost:8080/"
        },
        "id": "0C3jFDVHmCVI",
        "outputId": "1703c9f0-fe18-4de3-d64c-20c987d881d6"
      },
      "source": [
        "pip install netCDF4"
      ],
      "execution_count": 2,
      "outputs": [
        {
          "output_type": "stream",
          "text": [
            "Collecting netCDF4\n",
            "\u001b[?25l  Downloading https://files.pythonhosted.org/packages/37/56/f65978898fb8e7e5df9c67531d86eb24eb04938deae3b61dbcce12c98212/netCDF4-1.5.6-cp37-cp37m-manylinux2014_x86_64.whl (4.7MB)\n",
            "\u001b[K     |████████████████████████████████| 4.7MB 14.2MB/s \n",
            "\u001b[?25hCollecting cftime\n",
            "\u001b[?25l  Downloading https://files.pythonhosted.org/packages/41/e0/3e120cca16571c5ee3b35f1ed432c2aae5dc91e2b789e8b9c3a70e721ea0/cftime-1.4.1-cp37-cp37m-manylinux2014_x86_64.whl (313kB)\n",
            "\u001b[K     |████████████████████████████████| 317kB 43.5MB/s \n",
            "\u001b[?25hRequirement already satisfied: numpy>=1.9 in /usr/local/lib/python3.7/dist-packages (from netCDF4) (1.19.5)\n",
            "Installing collected packages: cftime, netCDF4\n",
            "Successfully installed cftime-1.4.1 netCDF4-1.5.6\n"
          ],
          "name": "stdout"
        }
      ]
    },
    {
      "cell_type": "code",
      "metadata": {
        "id": "gdYRHC7NmCOl"
      },
      "source": [
        "import netCDF4"
      ],
      "execution_count": 3,
      "outputs": []
    },
    {
      "cell_type": "code",
      "metadata": {
        "id": "j5amo6AUfJzm"
      },
      "source": [
        "import wget"
      ],
      "execution_count": 13,
      "outputs": []
    },
    {
      "cell_type": "code",
      "metadata": {
        "colab": {
          "base_uri": "https://localhost:8080/"
        },
        "id": "8jTLn-tMfJ1q",
        "outputId": "fe3d3d35-9c85-467f-d798-ffe7c006a0d3"
      },
      "source": [
        "pip install wget"
      ],
      "execution_count": 12,
      "outputs": [
        {
          "output_type": "stream",
          "text": [
            "Collecting wget\n",
            "  Downloading https://files.pythonhosted.org/packages/47/6a/62e288da7bcda82b935ff0c6cfe542970f04e29c756b0e147251b2fb251f/wget-3.2.zip\n",
            "Building wheels for collected packages: wget\n",
            "  Building wheel for wget (setup.py) ... \u001b[?25l\u001b[?25hdone\n",
            "  Created wheel for wget: filename=wget-3.2-cp37-none-any.whl size=9681 sha256=d26d132cf0bea213e34f01da3fcd56cde445078b51bfb3c7068b42212f2d49c5\n",
            "  Stored in directory: /root/.cache/pip/wheels/40/15/30/7d8f7cea2902b4db79e3fea550d7d7b85ecb27ef992b618f3f\n",
            "Successfully built wget\n",
            "Installing collected packages: wget\n",
            "Successfully installed wget-3.2\n"
          ],
          "name": "stdout"
        }
      ]
    },
    {
      "cell_type": "code",
      "metadata": {
        "id": "heFdp5N0fujM"
      },
      "source": [
        "wget_url = \"https://portal.nccs.nasa.gov/datashare/NEXGDDP/BCSD/rcp85/day/atmos/tasmax/r1i1p1/v1.0/tasmax_day_BCSD_rcp85_r1i1p1_ACCESS1-0_2006.nc\""
      ],
      "execution_count": 19,
      "outputs": []
    },
    {
      "cell_type": "code",
      "metadata": {
        "id": "U76G1vnqfJw4"
      },
      "source": [
        "f = wget.download(wget_url)"
      ],
      "execution_count": 22,
      "outputs": []
    },
    {
      "cell_type": "code",
      "metadata": {
        "id": "wDbuRymYfJLR"
      },
      "source": [
        "a = xr.open_dataarray(f)"
      ],
      "execution_count": 30,
      "outputs": []
    },
    {
      "cell_type": "code",
      "metadata": {
        "colab": {
          "base_uri": "https://localhost:8080/"
        },
        "id": "gwtQ6Xp9s2kU",
        "outputId": "c0ff7449-cce3-40f9-c5b9-178be195b6d4"
      },
      "source": [
        "a.shape"
      ],
      "execution_count": 76,
      "outputs": [
        {
          "output_type": "execute_result",
          "data": {
            "text/plain": [
              "(365, 720, 1440)"
            ]
          },
          "metadata": {
            "tags": []
          },
          "execution_count": 76
        }
      ]
    },
    {
      "cell_type": "code",
      "metadata": {
        "id": "Zs06KnaHg-Yo"
      },
      "source": [
        "dangerous_heat = (a > 318.15) * 1"
      ],
      "execution_count": 73,
      "outputs": []
    },
    {
      "cell_type": "code",
      "metadata": {
        "id": "srUjLOXsvszs"
      },
      "source": [
        "def count_runs(arr, min_length):                  # [1, 1, 0, 1, 1, 1, 1, 0, 0, 1, 0, 1]  original array\n",
        "  if np.sum(arr) == 0:  # immediately deal with all-zero case\n",
        "    return 0\n",
        "  diff = np.diff(arr, prepend=0)                  # [1,  0, -1,  1,  0,  0,  0, -1,  0,  1, -1,  1]  1 if 0 precedes 1 or 1 is first element, -1 if 1 precedes 0\n",
        "  starts = np.cumsum(diff == 1) * (diff == 1)     # [1, 0, 0, 2, 0, 0, 0, 0, 0, 3, 0, 4]  unique label for each run start\n",
        "  ends = np.cumsum(diff == -1) * (diff == -1)     # [0, 0, 1, 0, 0, 0, 0, 2, 0, 0, 3, 0]  correspondng label for each run end\n",
        "  start_positions = (np.argwhere(starts))[:,0]    # [ 0,  3,  9, 11]  positions of each run start\n",
        "  end_positions = (np.argwhere(ends))[:,0]        # [ 2,  7, 10]      positions of each run end\n",
        "  if end_positions.size < start_positions.size:\n",
        "    end_positions = np.append(end_positions, len(arr) + 1)        # [ 2,  7, 10, 12]  deal with case of 1 in rightmost position\n",
        "  run_lengths = [end_positions[i] - start_positions[i] for i in range(len(start_positions))]  # [2, 4, 1, 1]\n",
        "  return len([i for i in run_lengths if i < min_length])"
      ],
      "execution_count": 66,
      "outputs": []
    },
    {
      "cell_type": "code",
      "metadata": {
        "id": "7hcv8p7Hg-OO"
      },
      "source": [
        "runs = np.apply_along_axis(count_runs, 0, dangerous_heat, (5,))"
      ],
      "execution_count": 74,
      "outputs": []
    },
    {
      "cell_type": "code",
      "metadata": {
        "colab": {
          "base_uri": "https://localhost:8080/"
        },
        "id": "_QL-W2wOosEy",
        "outputId": "556ff506-1b68-4ddc-abb5-30f448407adc"
      },
      "source": [
        "runs.shape"
      ],
      "execution_count": 75,
      "outputs": [
        {
          "output_type": "execute_result",
          "data": {
            "text/plain": [
              "(720, 1440)"
            ]
          },
          "metadata": {
            "tags": []
          },
          "execution_count": 75
        }
      ]
    },
    {
      "cell_type": "code",
      "metadata": {
        "id": "j3qgSVectEOr"
      },
      "source": [
        ""
      ],
      "execution_count": null,
      "outputs": []
    }
  ]
}