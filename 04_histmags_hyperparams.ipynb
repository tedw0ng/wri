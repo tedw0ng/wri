{
 "cells": [
  {
   "cell_type": "code",
   "execution_count": null,
   "metadata": {},
   "outputs": [],
   "source": []
  },
  {
   "cell_type": "code",
   "execution_count": null,
   "metadata": {},
   "outputs": [],
   "source": []
  },
  {
   "cell_type": "code",
   "execution_count": null,
   "metadata": {},
   "outputs": [],
   "source": [
    "def threshold_alpha_beta(threshold):\n",
    "    successes = ee.Image.constant(0).rename('alpha')\n",
    "    failures = ee.Image.constant(0).rename('beta')\n",
    "    for hist_year in range(HIST_START, HIST_END + 1):\n",
    "        ehe_histyear = ehe(era5.filterDate(str(hist_year) + '-01-01', str(hist_year) + '-12-31'))\n",
    "        successes = successes.add(ehe_histyear.gte(threshold).multiply(ehe_histyear.lt(threshold + 5))).add(1)\n",
    "        failures = failures.add(ehe_histyear.lt(threshold).add(ehe_histyear.gte(threshold + 5)).min(1)).add(1)\n",
    "    alpha = successes.set('source', 'era5').set('threshold', threshold)\n",
    "    beta = failures.set('source', 'era5').set('threshold', threshold)\n",
    "    ic = ee.ImageCollection([alpha, beta])\n",
    "    twoband_image = ic.toBands().rename(['alpha', 'beta'])\n",
    "return twoband_image"
   ]
  },
  {
   "cell_type": "code",
   "execution_count": null,
   "metadata": {},
   "outputs": [],
   "source": [
    "def parameter_prime(param, target_year, threshold, flip):\n",
    "    cnp = current_naive_probs.select('threshold_' + str(threshold))\n",
    "    fnp = future_naive_probs.select('threshold_' + str(threshold))\n",
    "    if flip:\n",
    "        return param.add((((fnp.multiply(-1).add(1)).subtract(cnp.multiply(-1).add(1))).divide(2050 - 2020)).multiply(target_year - 2020)).multiply(0.1)\n",
    "    else:\n",
    "        return param.add(((fnp.subtract(cnp)).divide(2050 - 2020)).multiply(target_year - 2020)).multiply(0.1)"
   ]
  },
  {
   "cell_type": "code",
   "execution_count": null,
   "metadata": {},
   "outputs": [],
   "source": []
  }
 ],
 "metadata": {
  "kernelspec": {
   "display_name": "Python 3",
   "language": "python",
   "name": "python3"
  },
  "language_info": {
   "codemirror_mode": {
    "name": "ipython",
    "version": 3
   },
   "file_extension": ".py",
   "mimetype": "text/x-python",
   "name": "python",
   "nbconvert_exporter": "python",
   "pygments_lexer": "ipython3",
   "version": "3.8.5"
  }
 },
 "nbformat": 4,
 "nbformat_minor": 4
}
