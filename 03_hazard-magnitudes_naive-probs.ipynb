{
 "cells": [
  {
   "cell_type": "markdown",
   "metadata": {},
   "source": [
    "**Inputs**\n",
    "* ImageCollection(s) containing hazard magnitudes for each year-model pair\n",
    "\n",
    "**Outputs**\n",
    "* ImageCollection(s) containing hazard probilities for 2020 and 2060\n",
    "* **You must manually create the empty ImageCollection** in the dataportal/naive-probs directory before trying to export results"
   ]
  },
  {
   "cell_type": "code",
   "execution_count": 1,
   "metadata": {
    "scrolled": true
   },
   "outputs": [
    {
     "data": {
      "text/html": [
       "<p>To authorize access needed by Earth Engine, open the following\n",
       "        URL in a web browser and follow the instructions:</p>\n",
       "        <p><a href=https://accounts.google.com/o/oauth2/auth?client_id=517222506229-vsmmajv00ul0bs7p89v5m89qs8eb9359.apps.googleusercontent.com&scope=https%3A%2F%2Fwww.googleapis.com%2Fauth%2Fearthengine+https%3A%2F%2Fwww.googleapis.com%2Fauth%2Fdevstorage.full_control&redirect_uri=urn%3Aietf%3Awg%3Aoauth%3A2.0%3Aoob&response_type=code&code_challenge=rUiBV-38c3HGi8VIBQ01p7fNwrkBMSyv4BpLiCnB-2M&code_challenge_method=S256>https://accounts.google.com/o/oauth2/auth?client_id=517222506229-vsmmajv00ul0bs7p89v5m89qs8eb9359.apps.googleusercontent.com&scope=https%3A%2F%2Fwww.googleapis.com%2Fauth%2Fearthengine+https%3A%2F%2Fwww.googleapis.com%2Fauth%2Fdevstorage.full_control&redirect_uri=urn%3Aietf%3Awg%3Aoauth%3A2.0%3Aoob&response_type=code&code_challenge=rUiBV-38c3HGi8VIBQ01p7fNwrkBMSyv4BpLiCnB-2M&code_challenge_method=S256</a></p>\n",
       "        <p>The authorization workflow will generate a code, which you\n",
       "        should paste in the box below</p>\n",
       "        "
      ],
      "text/plain": [
       "<IPython.core.display.HTML object>"
      ]
     },
     "metadata": {},
     "output_type": "display_data"
    },
    {
     "name": "stdout",
     "output_type": "stream",
     "text": [
      "Enter verification code: 4/1AY0e-g5Q2fz0D1eDMd0i5l7xhpXHy1J8rh8TEntsUIoyQzWLGwb4TUE1rkc\n",
      "\n",
      "Successfully saved authorization token.\n"
     ]
    }
   ],
   "source": [
    "import ee\n",
    "ee.Authenticate()"
   ]
  },
  {
   "cell_type": "code",
   "execution_count": 2,
   "metadata": {},
   "outputs": [],
   "source": [
    "ee.Initialize()"
   ]
  },
  {
   "cell_type": "code",
   "execution_count": null,
   "metadata": {},
   "outputs": [],
   "source": [
    "hazardnames = ['dryspells']"
   ]
  },
  {
   "cell_type": "code",
   "execution_count": 5,
   "metadata": {},
   "outputs": [],
   "source": [
    "\n",
    "WHOLE_GLOBE = ee.Geometry.Rectangle([-179.999, -90, 180, 90], 'EPSG:4326', False)\n",
    "MODELS = ['ACCESS1-0', 'bcc-csm1-1', 'BNU-ESM', 'CanESM2', 'CCSM4', 'CESM1-BGC', 'CNRM-CM5', 'CSIRO-Mk3-6-0', 'GFDL-CM3', 'GFDL-ESM2G', 'GFDL-ESM2M', 'inmcm4', 'IPSL-CM5A-LR', 'IPSL-CM5A-MR', 'MIROC-ESM', 'MIROC-ESM-CHEM', 'MIROC5', 'MPI-ESM-LR', 'MPI-ESM-MR', 'MRI-CGCM3', 'NorESM1-M']\n",
    "EARLY_YEAR = 2030\n",
    "LATE_YEAR = 2065"
   ]
  },
  {
   "cell_type": "code",
   "execution_count": null,
   "metadata": {},
   "outputs": [],
   "source": [
    "def make_naiveprobs_image(year):\n",
    "    result_list = ee.List([])\n",
    "    for bin_idx in range(num_bins):\n",
    "        model_year_list = ee.List([])\n",
    "        threshold = (bin_idx + 1) * bin_width\n",
    "        for y in range(year - 10, year + 10):\n",
    "            for model in MODELS:\n",
    "                model_year_list = model_year_list.add(magnitudes.filterMetadata('model', 'equals', model).filterMetadata('year', 'equals', year))\n",
    "            threshold_list = model_year_list.mean()\n",
    "        result_list = result_list.add(ee.ImageCollection(threshold_list))\n",
    "    result_img = ee.ImageCollection(result_list).toBands().rename(['magnitudebin_' + str((i + 1) * bin_width) for i in range(num_bins)])\n",
    "    return result_img"
   ]
  },
  {
   "cell_type": "code",
   "execution_count": 12,
   "metadata": {},
   "outputs": [],
   "source": [
    "for hazardname in hazardnames:\n",
    "    magnitudes = ee.ImageCollection('users/tedwongwri/dataportal/magnitudes/' + hazardname)\n",
    "    for year in [EARLY_YEAR, LATE_YEAR]:\n",
    "        img = make_naiveprobs_image(year)\n",
    "        task = ee.batch.Export.image.toAsset(**{\n",
    "          'image': img.rename(hazardname).set('model', model).set('year', year),\n",
    "          'description': '{0}_{1}'.format(hazardname, str(year)),\n",
    "          'assetId': 'users/tedwongwri/dataportal/rawprobs/{0}_{1}'.format(hazardname, str(year)),\n",
    "          'region': WHOLE_GLOBE,\n",
    "          'crs': 'EPSG:4326',\n",
    "          'dimensions': '1440x720'\n",
    "        })\n",
    "        task.start()"
   ]
  },
  {
   "cell_type": "code",
   "execution_count": null,
   "metadata": {},
   "outputs": [],
   "source": []
  }
 ],
 "metadata": {
  "kernelspec": {
   "display_name": "Python 3",
   "language": "python",
   "name": "python3"
  },
  "language_info": {
   "codemirror_mode": {
    "name": "ipython",
    "version": 3
   },
   "file_extension": ".py",
   "mimetype": "text/x-python",
   "name": "python",
   "nbconvert_exporter": "python",
   "pygments_lexer": "ipython3",
   "version": "3.8.5"
  }
 },
 "nbformat": 4,
 "nbformat_minor": 4
}
