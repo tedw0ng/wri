{
 "cells": [
  {
   "cell_type": "markdown",
   "metadata": {},
   "source": [
    "# Data Portal adaptation demo\n",
    "\n",
    "This demo implements an analytical workflow that integrates...\n",
    "* Climate-hazard probability datasets linked from Google Earth Engine\n",
    "* Interactivity\n",
    "* Data outputs compatible with adaptation reporting under the CRF\n",
    "\n",
    "What to notice:\n",
    "* Current and future hazard magnitudes and probabilities are displayed in the tables, the graph, and the map\n",
    "* Moving the location marker or the sliders causes all data outputs to update\n",
    "* The demo has three sections; be sure to scroll all the way to the right\n",
    "\n",
    "----------------------------------\n"
   ]
  },
  {
   "cell_type": "code",
   "execution_count": 1,
   "metadata": {
    "extensions": {
     "jupyter_dashboards": {
      "version": 1,
      "views": {
       "grid_default": {},
       "report_default": {}
      }
     }
    }
   },
   "outputs": [],
   "source": [
    "%matplotlib widget\n",
    "import matplotlib.pyplot as plt"
   ]
  },
  {
   "cell_type": "code",
   "execution_count": 2,
   "metadata": {
    "extensions": {
     "jupyter_dashboards": {
      "version": 1,
      "views": {
       "grid_default": {},
       "report_default": {}
      }
     }
    },
    "scrolled": true
   },
   "outputs": [],
   "source": [
    "# GEE authentication using service account key stored in local directory\n",
    "import ee\n",
    "#service_account = 'climate-hazard-demo@data-portal-adaptation.iam.gserviceaccount.com'\n",
    "#credentials = ee.ServiceAccountCredentials(service_account, 'data-portal-adaptation.json')\n",
    "ee.Initialize()"
   ]
  },
  {
   "cell_type": "code",
   "execution_count": 3,
   "metadata": {
    "extensions": {
     "jupyter_dashboards": {
      "version": 1,
      "views": {
       "grid_default": {},
       "report_default": {}
      }
     }
    }
   },
   "outputs": [],
   "source": [
    "import geemap\n",
    "from ipyleaflet import CircleMarker, Polygon, LayersControl, DrawControl, ZoomControl\n",
    "from ipywidgets import interact, interactive, interact_manual, Layout\n",
    "import ipywidgets as widgets\n",
    "import asyncio\n",
    "import numpy as np"
   ]
  },
  {
   "cell_type": "code",
   "execution_count": 4,
   "metadata": {},
   "outputs": [],
   "source": [
    "# Create decorator to prevent events triggers while slider is being moved\n",
    "# From https://ipywidgets.readthedocs.io/en/latest/examples/Widget%20Events.html\n",
    "class Timer:\n",
    "    def __init__(self, timeout, callback):\n",
    "        self._timeout = timeout\n",
    "        self._callback = callback\n",
    "\n",
    "    async def _job(self):\n",
    "        await asyncio.sleep(self._timeout)\n",
    "        self._callback()\n",
    "\n",
    "    def start(self):\n",
    "        self._task = asyncio.ensure_future(self._job())\n",
    "\n",
    "    def cancel(self):\n",
    "        self._task.cancel()\n",
    "\n",
    "def debounce(wait):\n",
    "    \"\"\" Decorator that will postpone a function's\n",
    "        execution until after `wait` seconds\n",
    "        have elapsed since the last time it was invoked. \"\"\"\n",
    "    def decorator(fn):\n",
    "        timer = None\n",
    "        def debounced(*args, **kwargs):\n",
    "            nonlocal timer\n",
    "            def call_it():\n",
    "                fn(*args, **kwargs)\n",
    "            if timer is not None:\n",
    "                timer.cancel()\n",
    "            timer = Timer(wait, call_it)\n",
    "            timer.start()\n",
    "        return debounced\n",
    "    return decorator"
   ]
  },
  {
   "cell_type": "code",
   "execution_count": 5,
   "metadata": {
    "extensions": {
     "jupyter_dashboards": {
      "version": 1,
      "views": {
       "grid_default": {},
       "report_default": {}
      }
     }
    },
    "scrolled": true
   },
   "outputs": [],
   "source": [
    "# Load data from GEE\n",
    "MAPprobs = ee.ImageCollection(\"users/tedwongwri/MAP_probs/ehe_MAPprob_prime01\")\n",
    "NC_MAPprobs = ee.ImageCollection(\"users/tedwongwri/MAP_probs/noncumul_ehe_MAPprob_prime01\")"
   ]
  },
  {
   "cell_type": "code",
   "execution_count": 6,
   "metadata": {
    "extensions": {
     "jupyter_dashboards": {
      "version": 1,
      "views": {
       "grid_default": {},
       "report_default": {}
      }
     }
    }
   },
   "outputs": [],
   "source": [
    "initial_threshold = 30\n",
    "currentYear = 2022\n",
    "futureYear = 2050\n",
    "prev_threshold = 30\n",
    "prev_futureYear = 2050\n",
    "threshold_value = initial_threshold\n",
    "initial_coords = [50.85045, 4.34878]  # Brussels\n",
    "current_geom = ee.Geometry.Point(initial_coords)\n",
    "current_location_marker = None"
   ]
  },
  {
   "cell_type": "code",
   "execution_count": 7,
   "metadata": {
    "extensions": {
     "jupyter_dashboards": {
      "version": 1,
      "views": {
       "grid_default": {},
       "report_default": {}
      }
     }
    }
   },
   "outputs": [],
   "source": [
    "futureyear_slider = widgets.IntSlider(\n",
    "    value = futureYear,\n",
    "    min = currentYear + 1,\n",
    "    max = 2080,\n",
    "    step = 1,\n",
    "    description = 'Future year',\n",
    "    continuous_update = False\n",
    ")\n",
    "\n",
    "threshold_slider = widgets.IntSlider(\n",
    "    value=initial_threshold,\n",
    "    min=5,\n",
    "    max=50,\n",
    "    step=5,\n",
    "    description='EHE ≥ ___',\n",
    "    continuous_update=False\n",
    ")\n",
    "\n",
    "prob_display = widgets.HTML()\n",
    "ev_display = widgets.HTML()\n",
    "debug_display = widgets.HTML()"
   ]
  },
  {
   "cell_type": "code",
   "execution_count": 8,
   "metadata": {
    "extensions": {
     "jupyter_dashboards": {
      "version": 1,
      "views": {
       "grid_default": {},
       "report_default": {}
      }
     }
    }
   },
   "outputs": [],
   "source": [
    "currentprobs = MAPprobs.filterMetadata('year', 'equals', currentYear).first()\n",
    "futureprobs = MAPprobs.filterMetadata('year', 'equals', futureYear).first()"
   ]
  },
  {
   "cell_type": "code",
   "execution_count": 9,
   "metadata": {
    "extensions": {
     "jupyter_dashboards": {
      "version": 1,
      "views": {
       "grid_default": {},
       "report_default": {}
      }
     }
    }
   },
   "outputs": [],
   "source": [
    "Map = geemap.Map(center=initial_coords, zoom=3)\n",
    "Map.add_basemap('HYBRID')\n",
    "\n",
    "Map.clear_controls()\n",
    "layer_control = LayersControl(position='topright')\n",
    "Map.add_control(layer_control)\n",
    "Map.add_control(ZoomControl(position='bottomright'))\n",
    "draw_control = DrawControl(circle={}, polyline={}, rectangle={}, position='topleft')\n",
    "Map.add_control(draw_control)\n",
    "\n",
    "\n",
    "current_location_marker = CircleMarker(location=initial_coords, name=\"location of interest\")\n",
    "Map.add_layer(current_location_marker)\n",
    "\n",
    "vizParamsC = {\n",
    "  'bands': ['threshold_' + str(threshold_value)],\n",
    "  'min': 0,\n",
    "  'max': 1,\n",
    "  'palette': ['000000', '909000'],\n",
    "  'opacity': 0.5\n",
    "}\n",
    "vizParamsF = {\n",
    "  'bands': ['threshold_' + str(threshold_value)],\n",
    "  'min': 0,\n",
    "  'max': 1,\n",
    "  'palette': ['000000', 'ff0000'],\n",
    "  'opacity': 0.5\n",
    "}\n",
    "Map.addLayer(currentprobs, vizParamsC, str(currentYear) + ' Prob(EHE ≥ ' + str(threshold_value) + ')')\n",
    "Map.addLayer(futureprobs, vizParamsF, str(futureYear) + ' Prob(EHE ≥ ' + str(threshold_value) + ')')"
   ]
  },
  {
   "cell_type": "code",
   "execution_count": 10,
   "metadata": {},
   "outputs": [],
   "source": [
    "def expected_value(probs, mags):\n",
    "    np_probs = np.array(probs)\n",
    "    np_mags = np.array(mags)\n",
    "    return np.dot(np_probs, np_mags) / np_probs.size\n",
    "\n",
    "def get_ev_ehe(year):\n",
    "    # Plot expected value of EHE for given year\n",
    "    current_NC_probs = NC_MAPprobs.filterMetadata('year', 'equals', year).first().rename([str((i+1)*5) for i in range(25)] )\n",
    "    current_NC_data = current_NC_probs.reduceRegion(reducer=ee.Reducer.mean(), geometry=current_geom).getInfo()\n",
    "    dataprobs = [float(i) for i in current_NC_data.values()]\n",
    "    datamags = [float(i) for i in list(current_NC_data.keys())]\n",
    "    return expected_value(dataprobs, datamags)"
   ]
  },
  {
   "cell_type": "code",
   "execution_count": 11,
   "metadata": {
    "extensions": {
     "jupyter_dashboards": {
      "version": 1,
      "views": {
       "grid_default": {},
       "report_default": {}
      }
     }
    }
   },
   "outputs": [],
   "source": [
    "def renameBands(img):\n",
    "    # MAPprob files have bandnames like \"threshold_5\"\n",
    "    return img.rename(['05', '10', '15', '20', '25', '30', '35', '40', '45', '50'] )\n",
    "\n",
    "def prob(threshold, year):\n",
    "# Returns prob of given EHE threshold for given year, as float betw 0 and 1 inclusive\n",
    "# Threshold: 5-50 by fives; Year: 2022-2080 by ones    \n",
    "    data = renameBands(MAPprobs.filterMetadata('year', 'equals', year).first()).reduceRegion(reducer=ee.Reducer.mean(), geometry=current_geom).getInfo()\n",
    "    return data[['0',''][threshold > 5] + str(threshold)]\n",
    "\n",
    "def prob_interp(magnitude, year):\n",
    "    # Finds prob by finding magnitude values in the data that are below and above given magnitude\n",
    "    # and treating prob as linear between the two.\n",
    "    data = NC_MAPprobs.filterMetadata('year', 'equals', year).first().rename([str((i+1)*5) for i in range(25)]).reduceRegion(reducer=ee.Reducer.mean(), geometry=current_geom).getInfo()\n",
    "    probs = np.array([float(i) for i in data.values()])\n",
    "    mags = np.array([float(i) for i in data.keys()])\n",
    "    lte = np.nonzero(mags <= magnitude)[0]\n",
    "    lte_idx = -1\n",
    "    if lte.size == 0:\n",
    "        lte = 0\n",
    "    else:\n",
    "        lte_idx = lte[-1]\n",
    "        lte = mags[lte_idx]\n",
    "    if lte_idx < mags.size - 2:\n",
    "        slope = (magnitude - lte) / (mags[lte_idx + 1] - lte)\n",
    "        if lte_idx >=0:\n",
    "            return probs[lte_idx] + (slope * (probs[lte_idx + 1] - probs[lte_idx]))\n",
    "        else:\n",
    "            probs[0]\n",
    "    else:\n",
    "        return probs[-1]\n",
    "\n",
    "def update_map():\n",
    "    global futureprobs\n",
    "    global futureYear\n",
    "    global prev_futureYear\n",
    "    global prev_threshold\n",
    "    new_visparamsC = {\n",
    "      'bands': ['threshold_' + str(threshold_value)],\n",
    "      'min': 0,\n",
    "      'max': 1,\n",
    "      'palette': ['000000', '909000'],\n",
    "      'opacity': 0.5\n",
    "    }\n",
    "    new_visparamsF = {\n",
    "      'bands': ['threshold_' + str(threshold_value)],\n",
    "      'min': 0,\n",
    "      'max': 1,\n",
    "      'palette': ['000000', 'ff0000'],\n",
    "      'opacity': 0.5\n",
    "    }\n",
    "    futureprobs = MAPprobs.filterMetadata('year', 'equals', futureYear).first()\n",
    "    Map.remove_ee_layer(name=str(currentYear) + ' Prob(EHE ≥ ' + str(prev_threshold) + ')')\n",
    "    Map.remove_ee_layer(name=str(prev_futureYear) + ' Prob(EHE ≥ ' + str(prev_threshold) + ')')\n",
    "    Map.add_ee_layer(currentprobs, new_visparamsC, str(currentYear) + ' Prob(EHE ≥ ' + str(threshold_value) + ')')\n",
    "    Map.add_ee_layer(futureprobs, new_visparamsF, str(futureYear) + ' Prob(EHE ≥ ' + str(threshold_value) + ')')\n",
    "    prev_threshold = threshold_value\n",
    "    prev_futureYear = futureYear\n",
    "\n",
    "def CRFtext(probstring, prob):\n",
    "    if prob > 0.05:\n",
    "        return 'high'\n",
    "    elif prob > 0.005:\n",
    "        return 'moderate'\n",
    "    elif prob > 0.0005:\n",
    "        return 'low'\n",
    "    else:\n",
    "        return 'do not know'\n",
    "    \n",
    "def changetext(before, after, inv):\n",
    "    # Assigns label to numerical probability according to Box 4 (p. 44) of\n",
    "    # https://www.globalcovenantofmayors.org/wp-content/uploads/2019/08/Data-TWG_Reporting-Framework_GUIDENCE-NOTE_FINAL.pdf\n",
    "    if before == after:\n",
    "        return 'no change'\n",
    "    chg = after > before\n",
    "    if inv:\n",
    "        chg = not chg\n",
    "    return ['decrease', 'increase'][chg * 1]\n",
    "    \n",
    "def update_evdisplay():\n",
    "    # Inserts output HTML into evdisplay widget\n",
    "    # Outputs are expected value of non-cumulative (that is, EHE=x, not EHE≥x) EHE value, current and future\n",
    "\n",
    "    current_ev = get_ev_ehe(currentYear)\n",
    "    future_ev = get_ev_ehe(futureYear)\n",
    "    current_prob = prob_interp(current_ev, currentYear)\n",
    "    future_prob = prob_interp(future_ev, futureYear)\n",
    "    evstring_current = '{:.1f} days'.format(current_ev)\n",
    "    evstring_future = '{:.1f} days'.format(future_ev)\n",
    "    probstring_current = '{:.1f}%'.format(current_prob * 100)\n",
    "    probstring_current += ' (' + CRFtext(probstring_current, current_prob) + ')'\n",
    "    probstring_future = '{:.1f}%'.format(future_prob * 100)\n",
    "    probstring_future += ' (' + CRFtext(probstring_future, future_prob) + ')'\n",
    "    newHtml = '<b>What EHE can you expect?</b><table style=\"width:500px; border: 1px solid black;\"><tr style=\"border-bottom: 2px solid black; text-align: center; font-weight: bold\"><td>year</td><td>magnitude</td><td>probability</td><td>magnitude change</td><td>frequency change</td></tr>'\n",
    "    newHtml += '<tr style=\"padding: 3px; text-align: center\"><td>' + str(currentYear) + '</td><td>' + evstring_current + '</td><td>' + probstring_current + '</td><td rowspan=\"2\">' + changetext(current_ev, future_ev, False) + '</td><td rowspan=\"2\">' + changetext(current_prob, future_prob, False) + '</td></tr>'\n",
    "    newHtml += '<tr style=\"padding: 3px; text-align: center\"><td>' + str(futureYear) + '</td><td>' + evstring_future + '</td><td>' + probstring_future + '</td></tr></table>'\n",
    "    ev_display.set_trait('value', newHtml)\n",
    "    \n",
    "\n",
    "    \n",
    "def update_const_mag_display():\n",
    "    # Inserts output HTML into probdisplay widget\n",
    "    # Outputs are current and future probability of user-selected EHE threshold value\n",
    "    current_prob = prob(threshold_value, currentYear)\n",
    "    future_prob = prob(threshold_value, futureYear)\n",
    "    probstring_current = '{:.1f}%'.format(current_prob * 100)\n",
    "    probstring_current += ' (' + CRFtext(probstring_current, current_prob) + ')'\n",
    "    probstring_future = '{:.1f}%'.format(future_prob * 100)\n",
    "    probstring_future += ' (' + CRFtext(probstring_future, future_prob) + ')'\n",
    "    ri_string_current = '{:.1f} years'.format(1.0/current_prob)\n",
    "    ri_string_future = '{:.1f} years'.format(1.0/future_prob)\n",
    "    newHtml = '<b>How probable is EHE ≥ ' + str(threshold_value) + '?</b><table style=\"width:500px; border: 1px solid black;\"><tr style=\"border-bottom: 2px solid black; text-align: center; font-weight: bold\"><td>year</td><td>probability</td><td>recurrence interval</td><td>frequency change</td></tr>'\n",
    "    newHtml += '<tr style=\"padding: 5px; text-align: center\"><td>' + str(currentYear) + '</td><td style=\"text-align: center\">' + probstring_current + '</td><td>' + ri_string_current + '</td><td rowspan=\"2\">' + changetext(current_prob, future_prob, False) + '</td></tr>'\n",
    "    newHtml += '<tr style=\"padding: 5px; text-align: center\"><td>' + str(futureYear) + '</td><td style=\"text-align: center\">' + probstring_future + '</td><td>' + ri_string_future + '</td></tr></table>'\n",
    "    prob_display.set_trait('value', newHtml)\n",
    "\n",
    "def update_probplot():\n",
    "    # Replots plots of probability vs EHE threshold value\n",
    "    probplot.canvas.draw()\n",
    "    probplot.canvas.flush_events()\n",
    "    global current_plot\n",
    "    global future_plot\n",
    "    global plt\n",
    "    if current_plot:\n",
    "        dummy = current_plot.pop(0)\n",
    "        dummy.remove()\n",
    "    if future_plot:\n",
    "        dummy = future_plot.pop(0)\n",
    "        dummy.remove()\n",
    "    currentprobs = MAPprobs.filterMetadata('year', 'equals', currentYear).first()\n",
    "    current_data = renameBands(currentprobs).reduceRegion(reducer=ee.Reducer.mean(), geometry=current_geom).getInfo()\n",
    "    current_plot = plt.plot([str(i) + 'd' for i in current_data.keys()], current_data.values(), label=str(currentYear), color='green')\n",
    "    futureprobs = MAPprobs.filterMetadata('year', 'equals', futureYear).first()\n",
    "    future_data = renameBands(futureprobs).reduceRegion(reducer=ee.Reducer.mean(), geometry=current_geom).getInfo()\n",
    "    future_plot = plt.plot([str(i) + 'd' for i in future_data.keys()], future_data.values(), label=str(futureYear), color='lime')\n",
    "    plt.legend()"
   ]
  },
  {
   "cell_type": "code",
   "execution_count": 12,
   "metadata": {
    "scrolled": true
   },
   "outputs": [],
   "source": [
    "@debounce(0.5)\n",
    "def threshold_update(e):\n",
    "    global threshold_value\n",
    "    threshold_value = threshold_slider.value\n",
    "    update_const_mag_display()\n",
    "    update_map()\n",
    "@debounce(0.5)\n",
    "def futureyear_update(e):\n",
    "    global futureYear\n",
    "    futureYear = futureyear_slider.value\n",
    "    update_probplot()\n",
    "    update_const_mag_display()\n",
    "    update_evdisplay()\n",
    "    update_map()\n",
    "@debounce(0.5)\n",
    "def marker_update(e):\n",
    "    update_probplot()\n",
    "    update_const_mag_display()\n",
    "    update_evdisplay()\n",
    "@debounce(0.5)\n",
    "def drawcontrol_update(e):\n",
    "    def latlon_to_lonlat(coords):\n",
    "        if type(coords[0]) == float:\n",
    "            return [coords[1], coords[0]]\n",
    "        else:\n",
    "            return [[[i[1],i[0]] for i in j] for j in coords]\n",
    "        \n",
    "    global current_geom\n",
    "    global current_location_marker\n",
    "    Map.remove_layer(current_location_marker)\n",
    "    draw_control.clear()\n",
    "    new_geom = draw_control.last_draw['geometry']\n",
    "    if new_geom['type'] == 'Point':\n",
    "        current_geom = ee.Geometry.Point(new_geom['coordinates'])\n",
    "        current_location_marker = CircleMarker(location=latlon_to_lonlat(new_geom['coordinates']), name=\"location of interest\")\n",
    "        Map.add_layer(current_location_marker)\n",
    "    else:\n",
    "        current_geom = ee.Geometry.Polygon(new_geom['coordinates'])\n",
    "        current_location_marker = Polygon(locations=latlon_to_lonlat(new_geom['coordinates']), name=\"location of interest\")\n",
    "        Map.add_layer(current_location_marker)\n",
    "    update_probplot()\n",
    "    update_const_mag_display()\n",
    "    update_evdisplay()\n",
    "\n",
    "threshold_slider.observe(threshold_update)\n",
    "futureyear_slider.observe(futureyear_update)\n",
    "draw_control.observe(drawcontrol_update)"
   ]
  },
  {
   "cell_type": "code",
   "execution_count": 13,
   "metadata": {},
   "outputs": [],
   "source": [
    "plt.ioff()\n",
    "probplot = plt.figure(figsize=(5,4))\n",
    "current_plot = None\n",
    "future_plot = None\n",
    "plt.xlabel('EHE ≥ threshold')\n",
    "plt.ylabel('probability')\n",
    "#plt.legend()\n",
    "\n",
    "plt.ion();"
   ]
  },
  {
   "cell_type": "code",
   "execution_count": 14,
   "metadata": {
    "scrolled": true
   },
   "outputs": [],
   "source": [
    "update_probplot()\n",
    "update_const_mag_display()\n",
    "update_evdisplay()"
   ]
  },
  {
   "cell_type": "code",
   "execution_count": 15,
   "metadata": {
    "scrolled": false
   },
   "outputs": [
    {
     "data": {
      "application/vnd.jupyter.widget-view+json": {
       "model_id": "75290751baff40ac8838dcb1f7f26e6c",
       "version_major": 2,
       "version_minor": 0
      },
      "text/plain": [
       "GridBox(children=(Box(children=(Map(center=[50.85045, 4.34878], controls=(LayersControl(options=['position'], …"
      ]
     },
     "metadata": {},
     "output_type": "display_data"
    }
   ],
   "source": [
    "map_box = widgets.Box([Map], layout=Layout(width='500px', height='600px'))\n",
    "hbar = widgets.HTML(value='<br/><div style=\"height:6px; width: 500px; background-color: #9090c0\"></div>')\n",
    "ev_box = widgets.VBox([futureyear_slider, ev_display], layout=Layout(align_items='flex-start'))\n",
    "prob_box = widgets.VBox([threshold_slider, prob_display], layout=Layout(align_items='flex-start'))\n",
    "middle_box = widgets.VBox([debug_display, ev_box, hbar, prob_box])\n",
    "items = [map_box, middle_box, probplot.canvas]\n",
    "gridbox = widgets.GridBox(items, layout=Layout(grid_template_columns=\"repeat(3, 600px)\"))\n",
    "gridbox"
   ]
  },
  {
   "cell_type": "code",
   "execution_count": null,
   "metadata": {},
   "outputs": [],
   "source": []
  }
 ],
 "metadata": {
  "extensions": {
   "jupyter_dashboards": {
    "activeView": "grid_default",
    "version": 1,
    "views": {
     "grid_default": {
      "cellMargin": 10,
      "defaultCellHeight": 20,
      "maxColumns": 12,
      "name": "grid",
      "type": "grid"
     },
     "report_default": {
      "name": "report",
      "type": "report"
     }
    }
   }
  },
  "kernelspec": {
   "display_name": "Python 3",
   "language": "python",
   "name": "python3"
  },
  "language_info": {
   "codemirror_mode": {
    "name": "ipython",
    "version": 3
   },
   "file_extension": ".py",
   "mimetype": "text/x-python",
   "name": "python",
   "nbconvert_exporter": "python",
   "pygments_lexer": "ipython3",
   "version": "3.8.5"
  }
 },
 "nbformat": 4,
 "nbformat_minor": 4
}
