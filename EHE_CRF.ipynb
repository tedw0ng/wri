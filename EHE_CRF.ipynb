{
 "cells": [
  {
   "cell_type": "code",
   "execution_count": 1,
   "metadata": {
    "extensions": {
     "jupyter_dashboards": {
      "version": 1,
      "views": {
       "grid_default": {},
       "report_default": {}
      }
     }
    }
   },
   "outputs": [],
   "source": [
    "%matplotlib widget\n",
    "import matplotlib.pyplot as plt"
   ]
  },
  {
   "cell_type": "code",
   "execution_count": 2,
   "metadata": {
    "extensions": {
     "jupyter_dashboards": {
      "version": 1,
      "views": {
       "grid_default": {},
       "report_default": {}
      }
     }
    },
    "scrolled": true
   },
   "outputs": [],
   "source": [
    "# GEE authentication using service account key stored in local directory\n",
    "import ee\n",
    "service_account = 'climate-hazard-demo@data-portal-adaptation.iam.gserviceaccount.com'\n",
    "credentials = ee.ServiceAccountCredentials(service_account, 'data-portal-adaptation.json')\n",
    "ee.Initialize(credentials)"
   ]
  },
  {
   "cell_type": "code",
   "execution_count": 3,
   "metadata": {
    "extensions": {
     "jupyter_dashboards": {
      "version": 1,
      "views": {
       "grid_default": {},
       "report_default": {}
      }
     }
    }
   },
   "outputs": [],
   "source": [
    "import geemap\n",
    "from ipyleaflet import Marker, MarkerCluster, LayersControl, ZoomControl\n",
    "from ipywidgets import interact, interactive, interact_manual, Layout\n",
    "import ipywidgets as widgets\n",
    "import asyncio\n",
    "import numpy as np"
   ]
  },
  {
   "cell_type": "code",
   "execution_count": 4,
   "metadata": {},
   "outputs": [],
   "source": [
    "# From https://ipywidgets.readthedocs.io/en/latest/examples/Widget%20Events.html\n",
    "class Timer:\n",
    "    def __init__(self, timeout, callback):\n",
    "        self._timeout = timeout\n",
    "        self._callback = callback\n",
    "\n",
    "    async def _job(self):\n",
    "        await asyncio.sleep(self._timeout)\n",
    "        self._callback()\n",
    "\n",
    "    def start(self):\n",
    "        self._task = asyncio.ensure_future(self._job())\n",
    "\n",
    "    def cancel(self):\n",
    "        self._task.cancel()\n",
    "\n",
    "def debounce(wait):\n",
    "    \"\"\" Decorator that will postpone a function's\n",
    "        execution until after `wait` seconds\n",
    "        have elapsed since the last time it was invoked. \"\"\"\n",
    "    def decorator(fn):\n",
    "        timer = None\n",
    "        def debounced(*args, **kwargs):\n",
    "            nonlocal timer\n",
    "            def call_it():\n",
    "                fn(*args, **kwargs)\n",
    "            if timer is not None:\n",
    "                timer.cancel()\n",
    "            timer = Timer(wait, call_it)\n",
    "            timer.start()\n",
    "        return debounced\n",
    "    return decorator"
   ]
  },
  {
   "cell_type": "code",
   "execution_count": 5,
   "metadata": {
    "extensions": {
     "jupyter_dashboards": {
      "version": 1,
      "views": {
       "grid_default": {},
       "report_default": {}
      }
     }
    }
   },
   "outputs": [],
   "source": [
    "# Load data from GEE\n",
    "MAPprobs = ee.ImageCollection(\"users/tedwongwri/MAP_probs/ehe_MAPprob_prime01\")"
   ]
  },
  {
   "cell_type": "code",
   "execution_count": 6,
   "metadata": {
    "extensions": {
     "jupyter_dashboards": {
      "version": 1,
      "views": {
       "grid_default": {},
       "report_default": {}
      }
     }
    }
   },
   "outputs": [],
   "source": [
    "initial_threshold = 30\n",
    "currentYear = 2022\n",
    "futureYear = 2050\n",
    "prev_threshold = 30\n",
    "prev_futureYear = 2050\n",
    "threshold_value = initial_threshold"
   ]
  },
  {
   "cell_type": "code",
   "execution_count": 7,
   "metadata": {
    "extensions": {
     "jupyter_dashboards": {
      "version": 1,
      "views": {
       "grid_default": {},
       "report_default": {}
      }
     }
    }
   },
   "outputs": [],
   "source": [
    "futureyear_slider = widgets.IntSlider(\n",
    "    value=futureYear,\n",
    "    min=2022,\n",
    "    max=2080,\n",
    "    step=1,\n",
    "    description='Future year',\n",
    "    continuous_update=False\n",
    ")\n",
    "\n",
    "threshold_slider = widgets.IntSlider(\n",
    "    value=initial_threshold,\n",
    "    min=5,\n",
    "    max=50,\n",
    "    step=5,\n",
    "    description='EHE threshold',\n",
    "    continuous_update=False\n",
    ")\n",
    "\n",
    "prob_display = widgets.HTML()"
   ]
  },
  {
   "cell_type": "code",
   "execution_count": 8,
   "metadata": {
    "extensions": {
     "jupyter_dashboards": {
      "version": 1,
      "views": {
       "grid_default": {},
       "report_default": {}
      }
     }
    }
   },
   "outputs": [],
   "source": [
    "currentprobs = MAPprobs.filterMetadata('year', 'equals', currentYear).first()\n",
    "futureprobs = MAPprobs.filterMetadata('year', 'equals', futureYear).first()"
   ]
  },
  {
   "cell_type": "code",
   "execution_count": 9,
   "metadata": {
    "extensions": {
     "jupyter_dashboards": {
      "version": 1,
      "views": {
       "grid_default": {},
       "report_default": {}
      }
     }
    }
   },
   "outputs": [],
   "source": [
    "Map = geemap.Map(center=[50.85045, 4.34878], zoom=3,layout=Layout(width='600px', height='400px'), zoom_control=False)\n",
    "Map.add_basemap('HYBRID')\n",
    "\n",
    "Map.clear_controls()\n",
    "layer_control = LayersControl(position='topright')\n",
    "Map.add_control(layer_control)\n",
    "Map.add_control(ZoomControl(position='topleft'))\n",
    "\n",
    "marker = Marker(location=[50.85045, 4.34878], name='location marker')\n",
    "Map.add_layer(marker)\n",
    "#Map.setControlVisibility(layerControl=True, fullscreenControl=True, latLngPopup=True)\n",
    "\n",
    "vizParamsC = {\n",
    "  'bands': ['threshold_' + str(threshold_value)],\n",
    "  'min': 0,\n",
    "  'max': 1,\n",
    "  'palette': ['909000', '000000'],\n",
    "  'opacity': 0.5\n",
    "}\n",
    "vizParamsF = {\n",
    "  'bands': ['threshold_' + str(threshold_value)],\n",
    "  'min': 0,\n",
    "  'max': 1,\n",
    "  'palette': ['ff0000', '000000'],\n",
    "  'opacity': 0.5\n",
    "}\n",
    "Map.addLayer(currentprobs, vizParamsC, str(currentYear) + ' Prob(EHE ≥ ' + str(threshold_value) + ')')\n",
    "Map.addLayer(futureprobs, vizParamsF, str(futureYear) + ' Prob(EHE ≥ ' + str(threshold_value) + ')')\n"
   ]
  },
  {
   "cell_type": "code",
   "execution_count": 10,
   "metadata": {
    "extensions": {
     "jupyter_dashboards": {
      "version": 1,
      "views": {
       "grid_default": {},
       "report_default": {}
      }
     }
    }
   },
   "outputs": [],
   "source": [
    "def renameBands(img):\n",
    "  return img.rename(['05', '10', '15', '20', '25', '30', '35', '40', '45', '50'] )\n",
    "\n",
    "def prob(threshold, year):\n",
    "# Returns prob of given EHE threshold for given year, as float betw 0 and 1 inclusive\n",
    "# Threshold: 5-50 by fives; Year: 2022-2080 by ones    \n",
    "    data = renameBands(MAPprobs.filterMetadata('year', 'equals', year).first()).reduceRegion(reducer=ee.Reducer.first(), geometry=ee.Geometry.Point(marker.location)).getInfo()\n",
    "    return data[['0',''][threshold > 5] + str(threshold)]\n",
    "\n",
    "def update_map():\n",
    "    global futureprobs\n",
    "    global futureYear\n",
    "    global prev_futureYear\n",
    "    global prev_threshold\n",
    "    new_visparamsC = {\n",
    "      'bands': ['threshold_' + str(threshold_value)],\n",
    "      'min': 0,\n",
    "      'max': 1,\n",
    "      'palette': ['909000', '000000'],\n",
    "      'opacity': 0.5\n",
    "    }\n",
    "    new_visparamsF = {\n",
    "      'bands': ['threshold_' + str(threshold_value)],\n",
    "      'min': 0,\n",
    "      'max': 1,\n",
    "      'palette': ['ff0000', '000000'],\n",
    "      'opacity': 0.5\n",
    "    }\n",
    "    futureprobs = MAPprobs.filterMetadata('year', 'equals', futureYear).first()\n",
    "    Map.remove_ee_layer(name=str(currentYear) + ' Prob(EHE ≥ ' + str(prev_threshold) + ')')\n",
    "    Map.remove_ee_layer(name=str(prev_futureYear) + ' Prob(EHE ≥ ' + str(prev_threshold) + ')')\n",
    "    Map.add_ee_layer(currentprobs, new_visparamsC, str(currentYear) + ' Prob(EHE ≥ ' + str(threshold_value) + ')')\n",
    "    Map.add_ee_layer(futureprobs, new_visparamsF, str(futureYear) + ' Prob(EHE ≥ ' + str(threshold_value) + ')')\n",
    "    prev_threshold = threshold_value\n",
    "    prev_futureYear = futureYear\n",
    "\n",
    "def update_probdisplay():\n",
    "    current_prob = prob(threshold_value, currentYear)\n",
    "    future_prob = prob(threshold_value, futureYear)\n",
    "    probstring_current = '{:.1f}%'.format(current_prob * 100)\n",
    "    probstring_future = '{:.1f}%'.format(future_prob * 100)\n",
    "    ri_string_current = '{:.1f} years'.format(1.0/current_prob)\n",
    "    ri_string_future = '{:.1f} years'.format(1.0/future_prob)\n",
    "    newHtml = '<table style=\"font-size: 150%; border: 1px solid black;\"><tr><th>Year</th><th>Prob(EHE ≥ ' + str(threshold_value) + ')</th><th>Recurrence interval</th></tr>'\n",
    "    newHtml += '<tr><td>' + str(currentYear) + '</td><td style=\"text-align: center\">' + probstring_current + '</td><td>' + ri_string_current + '</td></tr>'\n",
    "    newHtml += '<tr><td>' + str(futureYear) + '</td><td style=\"text-align: center\">' + probstring_future + '</td><td>' + ri_string_future + '</td></tr></table>'\n",
    "    prob_display.set_trait('value', newHtml)\n",
    "    \n",
    "def update_probplot():\n",
    "    fig.canvas.draw()\n",
    "    fig.canvas.flush_events()\n",
    "    global future_plot\n",
    "    global plt\n",
    "    dummy = future_plot.pop(0)\n",
    "    dummy.remove()\n",
    "    futureprobs = MAPprobs.filterMetadata('year', 'equals', futureYear).first()\n",
    "    future_data = renameBands(futureprobs).reduceRegion(reducer=ee.Reducer.first(), geometry=ee.Geometry.Point(marker.location)).getInfo()\n",
    "    future_plot = plt.plot([str(i) + 'd' for i in future_data.keys()], future_data.values(), label=str(futureYear))\n",
    "    plt.legend()\n",
    "    #fig.canvas.manager.set_window_title('')"
   ]
  },
  {
   "cell_type": "code",
   "execution_count": 11,
   "metadata": {
    "scrolled": true
   },
   "outputs": [],
   "source": [
    "@debounce(0.5)\n",
    "def threshold_update(e):\n",
    "    global threshold_value\n",
    "    threshold_value = threshold_slider.value\n",
    "    update_probdisplay()\n",
    "    update_map()\n",
    "@debounce(0.5)\n",
    "def futureyear_update(e):\n",
    "    global futureYear\n",
    "    futureYear = futureyear_slider.value\n",
    "    update_probplot()\n",
    "    update_probdisplay()\n",
    "    update_map()\n",
    "@debounce(0.5)\n",
    "def marker_update(e):\n",
    "    update_probplot()\n",
    "    update_probdisplay()\n",
    "\n",
    "threshold_slider.observe(threshold_update)\n",
    "futureyear_slider.observe(futureyear_update)\n",
    "marker.observe(marker_update)"
   ]
  },
  {
   "cell_type": "code",
   "execution_count": 12,
   "metadata": {},
   "outputs": [],
   "source": [
    "plt.ioff()\n",
    "fig = plt.figure(figsize=(5,4))\n",
    "\n",
    "future_data = renameBands(futureprobs).reduceRegion(reducer=ee.Reducer.first(), geometry=ee.Geometry.Point(marker.location)).getInfo()\n",
    "current_data = renameBands(currentprobs).reduceRegion(reducer=ee.Reducer.first(), geometry=ee.Geometry.Point(marker.location)).getInfo()\n",
    "current_plot = plt.plot([str(i) + 'd' for i in current_data.keys()], current_data.values(), label=str(currentYear))\n",
    "future_plot = plt.plot([str(i) + 'd' for i in future_data.keys()], future_data.values(), label=str(futureyear_slider.value))\n",
    "\n",
    "plt.xlabel('EHE ≥ threshold')\n",
    "plt.ylabel('probability')\n",
    "plt.legend()\n",
    "\n",
    "plt.ion();"
   ]
  },
  {
   "cell_type": "code",
   "execution_count": 13,
   "metadata": {},
   "outputs": [],
   "source": [
    "update_probplot()\n",
    "update_probdisplay()"
   ]
  },
  {
   "cell_type": "code",
   "execution_count": 14,
   "metadata": {
    "scrolled": true
   },
   "outputs": [
    {
     "data": {
      "application/vnd.jupyter.widget-view+json": {
       "model_id": "1c76d4ca393945bbad930e3e0b830b4f",
       "version_major": 2,
       "version_minor": 0
      },
      "text/plain": [
       "GridBox(children=(Box(children=(Map(center=[50.85045, 4.34878], controls=(LayersControl(options=['position'], …"
      ]
     },
     "metadata": {},
     "output_type": "display_data"
    }
   ],
   "source": [
    "map_box = widgets.Box([Map], layout=Layout(width='600px', height='400px'))\n",
    "slider_box = widgets.VBox([futureyear_slider, threshold_slider])\n",
    "items = [map_box, slider_box, fig.canvas, prob_display]\n",
    "gridbox = widgets.GridBox(items, layout=Layout(grid_template_columns=\"repeat(2, 700px)\"))\n",
    "gridbox"
   ]
  },
  {
   "cell_type": "code",
   "execution_count": null,
   "metadata": {},
   "outputs": [],
   "source": []
  }
 ],
 "metadata": {
  "extensions": {
   "jupyter_dashboards": {
    "activeView": "grid_default",
    "version": 1,
    "views": {
     "grid_default": {
      "cellMargin": 10,
      "defaultCellHeight": 20,
      "maxColumns": 12,
      "name": "grid",
      "type": "grid"
     },
     "report_default": {
      "name": "report",
      "type": "report"
     }
    }
   }
  },
  "kernelspec": {
   "display_name": "Python 3",
   "language": "python",
   "name": "python3"
  },
  "language_info": {
   "codemirror_mode": {
    "name": "ipython",
    "version": 3
   },
   "file_extension": ".py",
   "mimetype": "text/x-python",
   "name": "python",
   "nbconvert_exporter": "python",
   "pygments_lexer": "ipython3",
   "version": "3.8.5"
  }
 },
 "nbformat": 4,
 "nbformat_minor": 4
}
